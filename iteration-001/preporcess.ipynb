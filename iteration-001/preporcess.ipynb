{
 "cells": [
  {
   "cell_type": "code",
   "execution_count": 2,
   "metadata": {},
   "outputs": [],
   "source": [
    "import os\n",
    "import pandas as pd\n",
    "import re\n",
    "\n",
    "def extract_date_from_filename(filename):\n",
    "    # Regex to match date patterns like '01-Dec-2020' in the filename\n",
    "    match = re.search(r'\\d{2}-[A-Za-z]{3}-\\d{4}', filename)\n",
    "    if match:\n",
    "        return match.group(0)\n",
    "    return None\n",
    "\n",
    "def read_and_combine_csv_files(root_folder):\n",
    "    combined_df = pd.DataFrame()\n",
    "    \n",
    "    # Traverse the directory structure\n",
    "    for year_folder in os.listdir(root_folder):\n",
    "        year_path = os.path.join(root_folder, year_folder)\n",
    "        if os.path.isdir(year_path):\n",
    "            for month_folder in os.listdir(year_path):\n",
    "                month_path = os.path.join(year_path, month_folder)\n",
    "                if os.path.isdir(month_path):\n",
    "                    for file in os.listdir(month_path):\n",
    "                        if file.endswith('.csv'):\n",
    "                            file_path = os.path.join(month_path, file)\n",
    "                            # Read CSV file\n",
    "                            df = pd.read_csv(file_path)\n",
    "                            # Extract date from filename\n",
    "                            date = extract_date_from_filename(file)\n",
    "                            if date:\n",
    "                                df['Date'] = date\n",
    "                            # Append to the combined dataframe\n",
    "                            combined_df = pd.concat([combined_df, df], ignore_index=True)\n",
    "    \n",
    "    return combined_df\n",
    "\n",
    "# Set the root folder path\n",
    "root_folder = 'PATH_TO FOLDER: Pre-Market Data'\n",
    "\n",
    "# Combine all CSV files into a single DataFrame\n",
    "combined_df = read_and_combine_csv_files(root_folder)\n",
    "\n",
    "# Save the combined DataFrame to a new CSV file\n",
    "combined_df.to_csv('combined_file.csv', index=False)\n"
   ]
  }
 ],
 "metadata": {
  "kernelspec": {
   "display_name": "Python 3",
   "language": "python",
   "name": "python3"
  },
  "language_info": {
   "codemirror_mode": {
    "name": "ipython",
    "version": 3
   },
   "file_extension": ".py",
   "mimetype": "text/x-python",
   "name": "python",
   "nbconvert_exporter": "python",
   "pygments_lexer": "ipython3",
   "version": "3.10.13"
  }
 },
 "nbformat": 4,
 "nbformat_minor": 2
}
